{
 "cells": [
  {
   "cell_type": "code",
   "execution_count": 1,
   "metadata": {},
   "outputs": [
    {
     "data": {
      "application/javascript": [
       "IPython.notebook.set_autosave_interval(10000)"
      ]
     },
     "metadata": {},
     "output_type": "display_data"
    },
    {
     "name": "stdout",
     "output_type": "stream",
     "text": [
      "Autosaving every 10 seconds\n"
     ]
    }
   ],
   "source": [
    "%autosave 10"
   ]
  },
  {
   "cell_type": "markdown",
   "metadata": {},
   "source": [
    "**First, create a dataframe of *cleaned_data.csv*. Then, use scikit-learn's `train_test_split` to make a new set of training and testing data. This time, instead of `EDUCATION`, use `LIMIT_BAL`: the account's credit limit.**"
   ]
  },
  {
   "cell_type": "code",
   "execution_count": 2,
   "metadata": {},
   "outputs": [],
   "source": [
    "import pandas as pd\n",
    "import numpy as np\n",
    "import matplotlib.pyplot as plt\n",
    "import matplotlib as mpl"
   ]
  },
  {
   "cell_type": "code",
   "execution_count": 3,
   "metadata": {
    "eid": "662ef"
   },
   "outputs": [
    {
     "data": {
      "text/plain": [
       "(26664,)"
      ]
     },
     "execution_count": 3,
     "metadata": {},
     "output_type": "execute_result"
    }
   ],
   "source": [
    "df = pd.read_csv('cleaned_data.csv')\n",
    "df['LIMIT_BAL'].shape\n"
   ]
  },
  {
   "cell_type": "code",
   "execution_count": 4,
   "metadata": {},
   "outputs": [
    {
     "data": {
      "text/plain": [
       "(19998, 1)"
      ]
     },
     "execution_count": 4,
     "metadata": {},
     "output_type": "execute_result"
    }
   ],
   "source": [
    "X = df['LIMIT_BAL'].values.reshape(-1,1)\n",
    "y = df['default payment next month'].values\n",
    "from sklearn.model_selection import train_test_split\n",
    "X_train, X_test, y_train, y_test = train_test_split(X, y, test_size = 0.25, random_state = 0)\n",
    "X_train.shape"
   ]
  },
  {
   "cell_type": "markdown",
   "metadata": {},
   "source": [
    "\n",
    "*Here we can also use Standard Scaler for scaling the LIMIT_BAL*\n"
   ]
  },
  {
   "cell_type": "markdown",
   "metadata": {},
   "source": [
    "_________________________________________________________________________\n",
    "**Next, train a logistic regression model using the training data from your split.**\n"
   ]
  },
  {
   "cell_type": "code",
   "execution_count": 5,
   "metadata": {
    "eid": "05e84"
   },
   "outputs": [
    {
     "data": {
      "text/plain": [
       "LogisticRegression(C=1.0, class_weight=None, dual=False, fit_intercept=True,\n",
       "                   intercept_scaling=1, l1_ratio=None, max_iter=100,\n",
       "                   multi_class='auto', n_jobs=None, penalty='l2',\n",
       "                   random_state=None, solver='lbfgs', tol=0.0001, verbose=0,\n",
       "                   warm_start=False)"
      ]
     },
     "execution_count": 5,
     "metadata": {},
     "output_type": "execute_result"
    }
   ],
   "source": [
    "from sklearn.linear_model import LogisticRegression\n",
    "lr = LogisticRegression()\n",
    "lr.fit(X_train,y_train)"
   ]
  },
  {
   "cell_type": "markdown",
   "metadata": {},
   "source": [
    "_________________________________________________________________________\n",
    "**Then, create the array of predicted probabilities for the testing data.**\n"
   ]
  },
  {
   "cell_type": "code",
   "execution_count": 28,
   "metadata": {
    "eid": "b671b"
   },
   "outputs": [
    {
     "name": "stdout",
     "output_type": "stream",
     "text": [
      "[0.0719346  0.11043995 0.41666168 ... 0.40040178 0.41666168 0.20652984]\n",
      "\n"
     ]
    },
    {
     "data": {
      "text/plain": [
       "array([1., 1., 1., ..., 1., 1., 1.])"
      ]
     },
     "execution_count": 28,
     "metadata": {},
     "output_type": "execute_result"
    }
   ],
   "source": [
    "y_pred_proba = lr.predict_proba(X_test)\n",
    "\n",
    "prob_sum = np.sum(y_pred_proba,1)\n",
    "\n",
    "\n",
    "np.unique(prob_sum)\n",
    "pos_proba = y_pred_proba[:,1]\n",
    "print(pos_proba)\n",
    "print(\"\")\n",
    "prob_sum"
   ]
  },
  {
   "cell_type": "code",
   "execution_count": 35,
   "metadata": {},
   "outputs": [
    {
     "data": {
      "text/plain": [
       "(6666,)"
      ]
     },
     "execution_count": 35,
     "metadata": {},
     "output_type": "execute_result"
    }
   ],
   "source": [
    "y_pred_proba.shape\n",
    "\n",
    "prob_sum.shape\n"
   ]
  },
  {
   "cell_type": "code",
   "execution_count": 8,
   "metadata": {},
   "outputs": [
    {
     "data": {
      "text/plain": [
       "Text(0, 0.5, 'Number of samples')"
      ]
     },
     "execution_count": 8,
     "metadata": {},
     "output_type": "execute_result"
    },
    {
     "data": {
      "image/png": "[encoded data removed]",
      "text/plain": [
       "<Figure size 432x288 with 1 Axes>"
      ]
     },
     "metadata": {
      "needs_background": "light"
     },
     "output_type": "display_data"
    }
   ],
   "source": [
    "plt.hist(pos_proba)\n",
    "mpl.rcParams['font.size'] = 12\n",
    "plt.hist(pos_proba)\n",
    "plt.xlabel('Predicted probability of positive class for testing data')\n",
    "plt.ylabel('Number of samples')"
   ]
  },
  {
   "cell_type": "code",
   "execution_count": 9,
   "metadata": {},
   "outputs": [
    {
     "data": {
      "text/plain": [
       "Text(0, 0.5, 'Number of samples')"
      ]
     },
     "execution_count": 9,
     "metadata": {},
     "output_type": "execute_result"
    },
    {
     "data": {
      "image/png": "[encoded data removed]",
      "text/plain": [
       "<Figure size 432x288 with 1 Axes>"
      ]
     },
     "metadata": {
      "needs_background": "light"
     },
     "output_type": "display_data"
    }
   ],
   "source": [
    "pos_sample_pos_proba = pos_proba[y_test==1]\n",
    "neg_sample_pos_proba = pos_proba[y_test==0]\n",
    "plt.hist([pos_sample_pos_proba, neg_sample_pos_proba], histtype='barstacked')\n",
    "plt.legend(['Positive samples', 'Negative samples'])\n",
    "plt.xlabel('Predicted probability of positive class')\n",
    "plt.ylabel('Number of samples')"
   ]
  },
  {
   "cell_type": "markdown",
   "metadata": {},
   "source": [
    "_________________________________________________________________________\n",
    "**Next, calculate the ROC AUC using the predicted probabilities and the true labels of the testing data. Compare this to the ROC AUC from using the `EDUCATION` feature.**\n"
   ]
  },
  {
   "cell_type": "code",
   "execution_count": 10,
   "metadata": {
    "eid": "58476"
   },
   "outputs": [
    {
     "data": {
      "text/plain": [
       "0.6212291762577219"
      ]
     },
     "execution_count": 10,
     "metadata": {},
     "output_type": "execute_result"
    }
   ],
   "source": [
    "from sklearn import metrics\n",
    "fpr, tpr, thresholds = metrics.roc_curve(y_test, pos_proba)\n",
    "metrics.roc_auc_score(y_test, pos_proba)"
   ]
  },
  {
   "cell_type": "markdown",
   "metadata": {},
   "source": [
    "_________________________________________________________________________\n",
    "**Now, plot the ROC curve.**\n"
   ]
  },
  {
   "cell_type": "code",
   "execution_count": 11,
   "metadata": {
    "eid": "289eb",
    "scrolled": true
   },
   "outputs": [
    {
     "data": {
      "text/plain": [
       "Text(0.5, 1.0, 'ROC curve')"
      ]
     },
     "execution_count": 11,
     "metadata": {},
     "output_type": "execute_result"
    },
    {
     "data": {
      "image/png": "[encoded data removed]",
      "text/plain": [
       "<Figure size 432x288 with 1 Axes>"
      ]
     },
     "metadata": {
      "needs_background": "light"
     },
     "output_type": "display_data"
    }
   ],
   "source": [
    "plt.plot(fpr, tpr, '*-')\n",
    "plt.plot([0, 1], [0, 1], 'r--')\n",
    "plt.legend(['Logistic regression', 'Random chance'])\n",
    "plt.xlabel('FPR')\n",
    "plt.ylabel('TPR')\n",
    "plt.title('ROC curve')"
   ]
  },
  {
   "cell_type": "code",
   "execution_count": 12,
   "metadata": {},
   "outputs": [
    {
     "data": {
      "text/plain": [
       "array([1.48318171, 0.48318171, 0.46640143, 0.44969684, 0.43310493,\n",
       "       0.41666168, 0.40040178, 0.38435832, 0.36856256, 0.35304369,\n",
       "       0.33782866, 0.32294203, 0.30840587, 0.29423965, 0.28046026,\n",
       "       0.26708197, 0.25411646, 0.24157291, 0.22945805, 0.21777629,\n",
       "       0.20652984, 0.19571887, 0.18534163, 0.1753946 , 0.16587273,\n",
       "       0.1567695 , 0.14807718, 0.13978692, 0.13188895, 0.12437269,\n",
       "       0.11722693, 0.11043995, 0.10399962, 0.09928102, 0.09789352,\n",
       "       0.09210908, 0.08663361, 0.08145443, 0.07655892, 0.0719346 ,\n",
       "       0.06756915, 0.06345052, 0.05956689, 0.05590679, 0.05245903,\n",
       "       0.04921281, 0.04615769, 0.0432836 , 0.04058085, 0.03804015,\n",
       "       0.03565262, 0.03340973, 0.03130336, 0.02932576, 0.02572772,\n",
       "       0.0240936 , 0.01977592, 0.01851266, 0.01732866, 0.01621913,\n",
       "       0.01517955, 0.01420564, 0.01329337, 0.01088954, 0.01018803,\n",
       "       0.00729826, 0.0068265 , 0.00597196, 0.00522383])"
      ]
     },
     "execution_count": 12,
     "metadata": {},
     "output_type": "execute_result"
    }
   ],
   "source": [
    "thresholds"
   ]
  },
  {
   "cell_type": "markdown",
   "metadata": {},
   "source": [
    "_________________________________________________________________________\n",
    "**Then, calculate the data for the precision-recall curve on the testing data using scikit-learn functionality.**\n"
   ]
  },
  {
   "cell_type": "code",
   "execution_count": 13,
   "metadata": {
    "eid": "73fdb",
    "scrolled": true
   },
   "outputs": [],
   "source": [
    "precision, recall, thresholds = metrics.precision_recall_curve(y_test,pos_proba)\n"
   ]
  },
  {
   "cell_type": "markdown",
   "metadata": {},
   "source": [
    "_________________________________________________________________________\n",
    "**Plot the precision-recall curve using matplotlib.**\n"
   ]
  },
  {
   "cell_type": "code",
   "execution_count": 14,
   "metadata": {
    "ein": "5119c"
   },
   "outputs": [
    {
     "data": {
      "text/plain": [
       "Text(0.5, 1.0, 'PRC curve')"
      ]
     },
     "execution_count": 14,
     "metadata": {},
     "output_type": "execute_result"
    },
    {
     "data": {
      "image/png": "[encoded data removed]",
      "text/plain": [
       "<Figure size 432x288 with 1 Axes>"
      ]
     },
     "metadata": {
      "needs_background": "light"
     },
     "output_type": "display_data"
    }
   ],
   "source": [
    "plt.plot(precision, recall, '*-')\n",
    "plt.legend(['Logistic regression', 'Random chance'])\n",
    "plt.xlabel('precision')\n",
    "plt.ylabel('recall')\n",
    "plt.title('PRC curve')"
   ]
  },
  {
   "cell_type": "code",
   "execution_count": 15,
   "metadata": {},
   "outputs": [
    {
     "data": {
      "text/plain": [
       "array([0.21404983, 0.21396396, 0.2139961 , 0.21402824, 0.21391017,\n",
       "       0.21394231, 0.21400661, 0.21392063, 0.21398496, 0.21408154,\n",
       "       0.21402769, 0.21409214, 0.21412438, 0.21415663, 0.21425343,\n",
       "       0.21431801, 0.21429649, 0.21436114, 0.21811717, 0.21836766,\n",
       "       0.21887144, 0.21927636, 0.21990922, 0.22026432, 0.22052092,\n",
       "       0.22065579, 0.22117984, 0.22124741, 0.22249035, 0.22339219,\n",
       "       0.22379788, 0.22420278, 0.22582278, 0.22627364, 0.22733516,\n",
       "       0.22821577, 0.22808231, 0.22935619, 0.23100035, 0.23199133,\n",
       "       0.23296181, 0.23476803, 0.23569277, 0.23695318, 0.23971133,\n",
       "       0.24152457, 0.24396285, 0.24482467, 0.24868536, 0.2560019 ,\n",
       "       0.25632378, 0.2614129 , 0.26578947, 0.26928318, 0.27559055,\n",
       "       0.27871882, 0.28333877, 0.28447378, 0.28850325, 0.28785489,\n",
       "       0.28900042, 0.3007335 , 0.3047619 , 0.30782609, 0.34879032,\n",
       "       0.34504792, 0.34797297, 0.390625  , 1.        ])"
      ]
     },
     "execution_count": 15,
     "metadata": {},
     "output_type": "execute_result"
    }
   ],
   "source": [
    "precision"
   ]
  },
  {
   "cell_type": "code",
   "execution_count": 16,
   "metadata": {},
   "outputs": [
    {
     "data": {
      "text/plain": [
       "array([0.0068265 , 0.00729826, 0.00891647, 0.01018803, 0.01088954,\n",
       "       0.01329337, 0.01420564, 0.01517955, 0.01621913, 0.01732866,\n",
       "       0.01851266, 0.01977592, 0.02256087, 0.0240936 , 0.02572772,\n",
       "       0.02932576, 0.03130336, 0.03340973, 0.03565262, 0.03804015,\n",
       "       0.04058085, 0.0432836 , 0.04615769, 0.04921281, 0.05245903,\n",
       "       0.05590679, 0.05956689, 0.06345052, 0.06756915, 0.0719346 ,\n",
       "       0.07655892, 0.08145443, 0.08663361, 0.09210908, 0.09789352,\n",
       "       0.09928102, 0.10399962, 0.11043995, 0.11722693, 0.12437269,\n",
       "       0.13188895, 0.13978692, 0.14807718, 0.1567695 , 0.16587273,\n",
       "       0.1753946 , 0.18534163, 0.19571887, 0.20652984, 0.21777629,\n",
       "       0.22945805, 0.24157291, 0.25411646, 0.26708197, 0.28046026,\n",
       "       0.29423965, 0.30840587, 0.32294203, 0.33782866, 0.35304369,\n",
       "       0.36856256, 0.38435832, 0.40040178, 0.41666168, 0.43310493,\n",
       "       0.44969684, 0.46640143, 0.48318171])"
      ]
     },
     "execution_count": 16,
     "metadata": {},
     "output_type": "execute_result"
    }
   ],
   "source": [
    "thresholds"
   ]
  },
  {
   "cell_type": "code",
   "execution_count": 17,
   "metadata": {},
   "outputs": [
    {
     "data": {
      "text/plain": [
       "array([1.        , 0.99929874, 0.99929874, 0.99929874, 0.99859748,\n",
       "       0.99859748, 0.99859748, 0.99789621, 0.99789621, 0.99789621,\n",
       "       0.99719495, 0.99719495, 0.99719495, 0.99719495, 0.99719495,\n",
       "       0.99719495, 0.99649369, 0.99649369, 0.98948107, 0.9887798 ,\n",
       "       0.98737728, 0.98597475, 0.98527349, 0.98176718, 0.97966339,\n",
       "       0.97685835, 0.97545582, 0.97265077, 0.96984572, 0.96704067,\n",
       "       0.9628331 , 0.96143058, 0.93828892, 0.9312763 , 0.92847125,\n",
       "       0.9256662 , 0.92496494, 0.91935484, 0.91654979, 0.90112202,\n",
       "       0.8941094 , 0.88359046, 0.87798036, 0.86605891, 0.86185133,\n",
       "       0.84431978, 0.82889201, 0.81276297, 0.79593268, 0.75525947,\n",
       "       0.74614306, 0.71879383, 0.70827489, 0.69284712, 0.66269285,\n",
       "       0.63464236, 0.60939691, 0.5743338 , 0.55960729, 0.51192146,\n",
       "       0.48457223, 0.4312763 , 0.40392707, 0.37237027, 0.24263675,\n",
       "       0.22720898, 0.14446003, 0.03506311, 0.        ])"
      ]
     },
     "execution_count": 17,
     "metadata": {},
     "output_type": "execute_result"
    }
   ],
   "source": [
    "recall\n"
   ]
  },
  {
   "cell_type": "raw",
   "metadata": {},
   "source": []
  },
  {
   "cell_type": "markdown",
   "metadata": {},
   "source": [
    "_________________________________________________________________________\n",
    "**Now, use scikit-learn to calculate the area under the precision-recall curve.**\n"
   ]
  },
  {
   "cell_type": "code",
   "execution_count": 18,
   "metadata": {
    "eid": "34e7d"
   },
   "outputs": [
    {
     "data": {
      "text/plain": [
       "0.30801708876277645"
      ]
     },
     "execution_count": 18,
     "metadata": {},
     "output_type": "execute_result"
    }
   ],
   "source": [
    "metrics.auc(recall,precision)"
   ]
  },
  {
   "cell_type": "markdown",
   "metadata": {},
   "source": [
    "_________________________________________________________________________\n",
    "**Finally, recalculate the ROC AUC, except this time do it for the training data.**"
   ]
  },
  {
   "cell_type": "code",
   "execution_count": 19,
   "metadata": {},
   "outputs": [
    {
     "data": {
      "text/plain": [
       "array([0.30840587, 0.46640143, 0.16587273, ..., 0.16587273, 0.03340973,\n",
       "       0.25411646])"
      ]
     },
     "execution_count": 19,
     "metadata": {},
     "output_type": "execute_result"
    }
   ],
   "source": [
    "ytrain_pred_proba = lr.predict_proba(X_train)\n",
    "pos_proba1 = ytrain_pred_proba[:,1]\n",
    "pos_proba1"
   ]
  },
  {
   "cell_type": "code",
   "execution_count": 20,
   "metadata": {
    "eid": "d61c3"
   },
   "outputs": [
    {
     "data": {
      "text/plain": [
       "0.617946366900315"
      ]
     },
     "execution_count": 20,
     "metadata": {},
     "output_type": "execute_result"
    }
   ],
   "source": [
    "fpr, tpr, thresholds = metrics.roc_curve(y_train, pos_proba1)\n",
    "metrics.roc_auc_score(y_train, pos_proba1)"
   ]
  },
  {
   "cell_type": "markdown",
   "metadata": {},
   "source": [
    "    How is this different, conceptually and quantitatively, from your earlier calculation?\n"
   ]
  },
  {
   "cell_type": "code",
   "execution_count": null,
   "metadata": {},
   "outputs": [],
   "source": []
  }
 ],
 "metadata": {
  "kernelspec": {
   "display_name": "Python 3",
   "language": "python",
   "name": "python3"
  },
  "language_info": {
   "codemirror_mode": {
    "name": "ipython",
    "version": 3
   },
   "file_extension": ".py",
   "mimetype": "text/x-python",
   "name": "python",
   "nbconvert_exporter": "python",
   "pygments_lexer": "ipython3",
   "version": "3.7.6"
  }
 },
 "nbformat": 4,
 "nbformat_minor": 2
}
